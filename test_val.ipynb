{
 "cells": [
  {
   "cell_type": "code",
   "execution_count": 1,
   "metadata": {
    "collapsed": true,
    "ExecuteTime": {
     "end_time": "2023-11-29T20:49:33.737204Z",
     "start_time": "2023-11-29T20:49:31.371699Z"
    }
   },
   "outputs": [],
   "source": [
    "# %matplotlib inline\n",
    "import datetime\n",
    "import os\n",
    "import seaborn as sns\n",
    "\n",
    "from keras.optimizers import Adam\n",
    "from keras.callbacks import EarlyStopping, ModelCheckpoint\n",
    "from keras.losses import MeanSquaredError\n",
    "import tensorflow as tf\n",
    "\n",
    "import numpy as np\n",
    "from mpl_toolkits.mplot3d import Axes3D\n",
    "import matplotlib.pyplot as plt"
   ]
  },
  {
   "cell_type": "code",
   "execution_count": 2,
   "outputs": [],
   "source": [
    "import matplotlib.colors as colors\n",
    "\n",
    "def Model(m, w):\n",
    "    H, W, L = m.shape\n",
    "    m = m.T\n",
    "    c = [\"#D1FEFE\", \"#D1FEFE\", \"#00FEF9\", \"#00FDFE\", \"#50FB7F\", \"#D3F821\", \"#FFDE00\", \"#FF9D00\", \"#F03A00\", \"#E10000\"]\n",
    "    x, y, z = np.indices((L, W, H))\n",
    "    model = (x < 0) & (y < 0) & (z < 0)\n",
    "    color = np.empty(m.shape, dtype=object)\n",
    "    for i in range(L):\n",
    "        for j in range(W):\n",
    "            for k in range(H):\n",
    "                if m[i][j][k] >= w:\n",
    "                    cube = (x > i-1) & (x <= i)& (y > j-1) & (y <= j) & (z > k-1) & (z <= k)\n",
    "                    color[cube] = c[int(round(10*m[i][j][k]))-1]\n",
    "                    model = model | cube\n",
    "\n",
    "    fig = plt.figure(figsize = (20, 10))\n",
    "    ax = fig.add_axes(Axes3D(fig))\n",
    "    ax.voxels(model, facecolors=color, edgecolors='w', linewidth=0.5)\n",
    "\n",
    "    plt.xticks(np.arange(L+1), ['-400']+[\" \"]*31+['0']+[\" \"]*31+['400'])\n",
    "    ax.set_xlabel('Easting (m)', labelpad=20)\n",
    "    plt.yticks(np.arange(W+1), ['-400']+[\" \"]*31+['0']+[\" \"]*31+['400'])\n",
    "    ax.set_ylabel('Northing (m)', labelpad=15)\n",
    "    ax.set_zticks(np.arange(H+1))\n",
    "    ax.set_zticklabels(['0']+[\" \"]*15+['200']+[\" \"]*15+['400'])\n",
    "    ax.set_zlabel('Depth (m)')\n",
    "    ax.invert_zaxis()\n",
    "    plt.show()\n",
    "\n",
    "def colormap():\n",
    "    cdict = [\"#F2F2F2\", \"#D1FEFE\", \"#00FEF9\", \"#00FDFE\", \"#50FB7F\", \"#D3F821\", \"#FFDE00\", \"#FF9D00\", \"#F03A00\", \"#E10000\"]\n",
    "    return colors.ListedColormap(cdict, 'indexed')\n",
    "\n",
    "def plot_xoy(model, index, factor=0.1, ylabel=True):\n",
    "    ax = plt.gca()\n",
    "    model = np.where(model>factor, model, 0)\n",
    "    plt.imshow(model[:, :, index].T, cmap=colormap())\n",
    "    ax.invert_yaxis()\n",
    "    plt.xticks(np.arange(0, 65, 32), ('-400', '0', '400'))\n",
    "    plt.xlabel('Easting (km)')\n",
    "    plt.yticks(np.arange(0, 65, 32), ('-400', '0', '400'))\n",
    "    if ylabel:\n",
    "        plt.ylabel('Northing (km)')\n",
    "    plt.tick_params(bottom=False, top=False, left=False, right=False)"
   ],
   "metadata": {
    "collapsed": false,
    "ExecuteTime": {
     "end_time": "2023-11-29T20:49:33.743764Z",
     "start_time": "2023-11-29T20:49:33.742090Z"
    }
   }
  },
  {
   "cell_type": "code",
   "execution_count": null,
   "outputs": [],
   "source": [
    "# from utils.A_network_model import create_conv_autoencoder_with_skip_connections\n",
    "from utils.A_network_model_imporved import create_conv_autoencoder_with_skip_connections\n",
    "# from utils.C_network_model import create_conv_autoencoder_with_skip_connections"
   ],
   "metadata": {
    "collapsed": false
   }
  },
  {
   "cell_type": "code",
   "execution_count": null,
   "outputs": [],
   "source": [
    "X_test = np.load(\"data/test_model_data.npy\")\n",
    "y_test = np.load(\"data/test_model_label.npy\")\n",
    "\n",
    "# X_train = (X_train - X_train.min()) / (X_train.max() - X_train.min())"
   ],
   "metadata": {
    "collapsed": false
   }
  },
  {
   "cell_type": "code",
   "execution_count": null,
   "outputs": [],
   "source": [
    "autoencoder_with_skip = create_conv_autoencoder_with_skip_connections()"
   ],
   "metadata": {
    "collapsed": false
   }
  },
  {
   "cell_type": "code",
   "execution_count": null,
   "outputs": [],
   "source": [
    "model_dir = \"./models/20231129-135011/\"\n",
    "autoencoder_with_skip.load_weights(os.path.join(model_dir, 'final_model.h5'))\n",
    "autoencoder_with_skip.compile(optimizer='adam', loss=MeanSquaredError())"
   ],
   "metadata": {
    "collapsed": false
   }
  },
  {
   "cell_type": "code",
   "execution_count": null,
   "outputs": [],
   "source": [
    "predict = autoencoder_with_skip.predict(X_test)\n",
    "eval_loss = autoencoder_with_skip.evaluate(X_test, y_test)"
   ],
   "metadata": {
    "collapsed": false
   }
  }
 ],
 "metadata": {
  "kernelspec": {
   "display_name": "Python 3",
   "language": "python",
   "name": "python3"
  },
  "language_info": {
   "codemirror_mode": {
    "name": "ipython",
    "version": 2
   },
   "file_extension": ".py",
   "mimetype": "text/x-python",
   "name": "python",
   "nbconvert_exporter": "python",
   "pygments_lexer": "ipython2",
   "version": "2.7.6"
  }
 },
 "nbformat": 4,
 "nbformat_minor": 0
}
